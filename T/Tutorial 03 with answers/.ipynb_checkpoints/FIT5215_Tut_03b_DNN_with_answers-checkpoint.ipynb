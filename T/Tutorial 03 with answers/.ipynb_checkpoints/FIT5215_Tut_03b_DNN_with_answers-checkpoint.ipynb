{
 "cells": [
  {
   "cell_type": "markdown",
   "metadata": {},
   "source": [
    "# <span style=\"color:#0b486b\">  FIT5215: Deep Learning (2021)</span>\n",
    "***\n",
    "*CE/Lecturer:*  **Dr Trung Le** | trunglm@monash.edu <br/>\n",
    "*Head TA:*  **Dr Van Nguyen** | van.nguyen1@monash.edu <br/>\n",
    "*Tutor:* **Mr Anh Bui** \\[tuananh.bui@monash.edu\\] | **Mr Tuan Nguyen**  \\[tuan.ng@monash.edu \\] | **Dr Binh Nguyen** \\[binh.nguyen1@monash.edu\\] | **Dr Mahmoud Mohammad** \\[mahmoud.hossam@monash.edu\\]\n",
    "<br/> <br/>\n",
    "Faculty of Information Technology, Monash University, Australia\n",
    "***"
   ]
  },
  {
   "cell_type": "markdown",
   "metadata": {},
   "source": [
    "# <span style=\"color:#0b486b\">Tutorial 3b: Feed-forward Neural Nets with TensorFlow 2.x</span>\n",
    "**This continues Tutorial 2a and shows you how to implement a feedforward neural network using TF 2.x**:  \n",
    "- ***Inspect how to use keras in TF 2.x to fulfill the task. As you can see later the implementation is much simpler*.**\n"
   ]
  },
  {
   "cell_type": "markdown",
   "metadata": {},
   "source": [
    "***"
   ]
  },
  {
   "cell_type": "markdown",
   "metadata": {},
   "source": [
    "### <span style=\"color:#0b486b\"> II.1 Feedforward Neural Network </span> <span style=\"color:red\">***** (highly important)</span>\n",
    "#### <span style=\"color:#0b486b\"> Tutorial objective </span>"
   ]
  },
  {
   "cell_type": "markdown",
   "metadata": {},
   "source": [
    "In this tutorial, we will consider a fairly realistic deep NN with *three* layers plus the *output* layer. Its architecture will be specified as $16 \\rightarrow 10 (ReLU) \\rightarrow 20 (ReLU) \\rightarrow 15 (ReLU) \\rightarrow 26$. This means:\n",
    "- The input size is 16\n",
    "- The first layer has 10 hidden units with 10 ReLU activation functions\n",
    "- The second layer has 20 hidden units with 20 ReLU activation functions\n",
    "- The third layer has 15 hidden units with 15 ReLU activation functions\n",
    "- And the output layer is a logit layer with 26 hidden units"
   ]
  },
  {
   "cell_type": "markdown",
   "metadata": {},
   "source": [
    "This network, for example, can take the `letter` dataset input with $16$ features and with $26$ classes (A-Z). **Our objective in this tutorial is to implement this specific network in `TensorFlow 1.x`.**"
   ]
  },
  {
   "cell_type": "markdown",
   "metadata": {},
   "source": [
    "### <span style=\"color:#0b486b\"> II.2 Implementation with TensorFlow 2.x</span> <span style=\"color:red\">***** (highly important)</span>\n",
    "We now shall implement the aforementioned network with the architecture of $16 \\rightarrow 10 (ReLU) \\rightarrow 20 (ReLU) \\rightarrow 15 (ReLu) \\rightarrow 26$ in Tensorflow using the dataset `letter`. "
   ]
  },
  {
   "cell_type": "markdown",
   "metadata": {},
   "source": [
    "This letter dataset can be found at [the LIBSVM website](https://www.csie.ntu.edu.tw/~cjlin/libsvmtools/datasets/multiclass.html#letter). Here is the dataset information:\n",
    "-  *The objective is to identify each of a large number of black-and-white rectangular pixel displays as one of the 26 capital letters in the English alphabet. The character images were based on 20 different fonts and each letter within these 20 fonts was randomly distorted to produce a file of 20,000 unique stimuli. Each stimulus was converted into 16 primitive numerical attributes (statistical moments and edge counts) which were then scaled to fit into a range of integer values from 0 through 15*"
   ]
  },
  {
   "cell_type": "markdown",
   "metadata": {},
   "source": [
    "A typical pipeline process of implementing a deep learning model is as follows:\n",
    "\n",
    "1. **Data processing**: \n",
    "    - Load the dataset and split it into train, valid, and test sets.  \n",
    "     \n",
    "2. **Building the model**: \n",
    "    - Build the model using keras layers.\n",
    "     \n",
    "3. **Compiling the model**: \n",
    "    - Compile the model and specify the optimizer, the loss (e.g., cross-entropy loss) you want to optimize, metrics you want to measure. \n",
    "    \n",
    "4. **Training and evaluating**:\n",
    "    - Train the model with a specific training set and validation set in a number of epochs.\n",
    "    - Predict the test set and assess its performance."
   ]
  },
  {
   "cell_type": "markdown",
   "metadata": {},
   "source": [
    "#### <span style=\"color:#0b486b\">1. Data Processing </span>"
   ]
  },
  {
   "cell_type": "markdown",
   "metadata": {},
   "source": [
    "We use `sklearn` to load the dataset."
   ]
  },
  {
   "cell_type": "code",
   "execution_count": 1,
   "metadata": {},
   "outputs": [],
   "source": [
    "import os\n",
    "import numpy as np\n",
    "from sklearn.datasets import load_svmlight_file"
   ]
  },
  {
   "cell_type": "code",
   "execution_count": 2,
   "metadata": {},
   "outputs": [
    {
     "name": "stdout",
     "output_type": "stream",
     "text": [
      "X data shape: (15000, 16)\n",
      "y data shape: (15000,)\n",
      "# classes: 26\n",
      "[ 1.  2.  3.  4.  5.  6.  7.  8.  9. 10. 11. 12. 13. 14. 15. 16. 17. 18.\n",
      " 19. 20. 21. 22. 23. 24. 25. 26.]\n"
     ]
    }
   ],
   "source": [
    "data_file_name= \"letter_scale.libsvm\"\n",
    "data_file = os.path.abspath(\"./data/\" + data_file_name)\n",
    "X_data, y_data = load_svmlight_file(data_file)\n",
    "X_data= X_data.toarray()\n",
    "print(\"X data shape: {}\".format(X_data.shape))\n",
    "print(\"y data shape: {}\".format(y_data.shape))\n",
    "print(\"# classes: {}\".format(len(np.unique(y_data))))\n",
    "print(np.unique(y_data))"
   ]
  },
  {
   "cell_type": "markdown",
   "metadata": {},
   "source": [
    "We use `sklearn` to split the dataset into the train, validation, and test sets. \n"
   ]
  },
  {
   "cell_type": "code",
   "execution_count": 3,
   "metadata": {},
   "outputs": [],
   "source": [
    "from sklearn.model_selection import train_test_split\n",
    "from sklearn import preprocessing\n",
    "\n",
    "def train_valid_test_split(data, target, train_size, test_size):\n",
    "    valid_size = 1 - (train_size + test_size)\n",
    "    X1, X_test, y1, y_test = train_test_split(data, target, test_size = test_size, random_state= 33)\n",
    "    X_train, X_valid, y_train, y_valid = train_test_split(X1, y1, test_size = float(valid_size)/(valid_size+ train_size))\n",
    "    return X_train, X_valid, X_test, y_train, y_valid, y_test"
   ]
  },
  {
   "cell_type": "markdown",
   "metadata": {},
   "source": [
    "Next, we would like to encode the label in the form of numeric vector. For example, we want to turn $y\\_data=[\"cat\", \"dog\", \"cat\", \"lion\", \"dog\"]$ to $y\\_data=[0,1,0,2,1]$."
   ]
  },
  {
   "cell_type": "markdown",
   "metadata": {},
   "source": [
    "To do this, in the following segment of code, we use the object `le` as an instance of the class `preprocessing.LabelEncoder()` which supports us to transform categorical labels in `y_data` to a numerical vector."
   ]
  },
  {
   "cell_type": "code",
   "execution_count": 4,
   "metadata": {},
   "outputs": [
    {
     "name": "stdout",
     "output_type": "stream",
     "text": [
      "[25 15 18 ...  0 11 21]\n"
     ]
    }
   ],
   "source": [
    "le = preprocessing.LabelEncoder()\n",
    "le.fit(y_data.ravel())\n",
    "y_data= le.transform(y_data)\n",
    "print(y_data[:])"
   ]
  },
  {
   "cell_type": "markdown",
   "metadata": {},
   "source": [
    "We now use the function defined above to prepare our data for training, validating and testing."
   ]
  },
  {
   "cell_type": "code",
   "execution_count": 5,
   "metadata": {},
   "outputs": [
    {
     "name": "stdout",
     "output_type": "stream",
     "text": [
      "(12000, 16) (1500, 16) (1500, 16)\n",
      "(12000,) (1500,) (1500,)\n",
      "lables: [ 0  1  2  3  4  5  6  7  8  9 10 11 12 13 14 15 16 17 18 19 20 21 22 23\n",
      " 24 25]\n"
     ]
    }
   ],
   "source": [
    "X_train, X_valid, X_test, y_train, y_valid, y_test = train_valid_test_split(X_data, y_data, train_size=0.8, test_size=0.1)\n",
    "y_train= y_train.reshape(-1)\n",
    "y_test= y_test.reshape(-1)\n",
    "y_valid= y_valid.reshape(-1)\n",
    "print(X_train.shape, X_valid.shape, X_test.shape)\n",
    "print(y_train.shape, y_valid.shape, y_test.shape)\n",
    "print(\"lables: {}\".format(np.unique(y_train)))"
   ]
  },
  {
   "cell_type": "code",
   "execution_count": 6,
   "metadata": {},
   "outputs": [],
   "source": [
    "train_size= int(X_train.shape[0])\n",
    "n_features= int(X_train.shape[1])\n",
    "n_classes= len(np.unique(y_train))"
   ]
  },
  {
   "cell_type": "markdown",
   "metadata": {},
   "source": [
    "#### <span style=\"color:#0b486b\">2. Build up the model </span>"
   ]
  },
  {
   "cell_type": "markdown",
   "metadata": {},
   "source": [
    "We build up a feedforward neural network with the architecture: $16 \\rightarrow 10 (ReLU) \\rightarrow 20 (ReLU) \\rightarrow 15 (ReLu) \\rightarrow 26$ in TensorFlow 2.x."
   ]
  },
  {
   "cell_type": "code",
   "execution_count": 7,
   "metadata": {},
   "outputs": [],
   "source": [
    "import tensorflow as tf\n",
    "from tensorflow.keras.layers import Dense, Flatten\n",
    "from tensorflow.keras.models import Sequential"
   ]
  },
  {
   "cell_type": "code",
   "execution_count": 8,
   "metadata": {},
   "outputs": [
    {
     "name": "stdout",
     "output_type": "stream",
     "text": [
      "2.5.0\n"
     ]
    }
   ],
   "source": [
    "print(tf.__version__)"
   ]
  },
  {
   "cell_type": "code",
   "execution_count": 9,
   "metadata": {},
   "outputs": [],
   "source": [
    "dnn_model = Sequential()\n",
    "dnn_model.add(Dense(units=10,  input_shape=(16,), activation='relu'))\n",
    "dnn_model.add(Dense(units=20, activation='relu'))\n",
    "dnn_model.add(Dense(units=15, activation='relu'))\n",
    "dnn_model.add(Dense(units=n_classes, activation='softmax'))"
   ]
  },
  {
   "cell_type": "code",
   "execution_count": 10,
   "metadata": {},
   "outputs": [
    {
     "name": "stdout",
     "output_type": "stream",
     "text": [
      "Model: \"sequential\"\n",
      "_________________________________________________________________\n",
      "Layer (type)                 Output Shape              Param #   \n",
      "=================================================================\n",
      "dense (Dense)                (None, 10)                170       \n",
      "_________________________________________________________________\n",
      "dense_1 (Dense)              (None, 20)                220       \n",
      "_________________________________________________________________\n",
      "dense_2 (Dense)              (None, 15)                315       \n",
      "_________________________________________________________________\n",
      "dense_3 (Dense)              (None, 26)                416       \n",
      "=================================================================\n",
      "Total params: 1,121\n",
      "Trainable params: 1,121\n",
      "Non-trainable params: 0\n",
      "_________________________________________________________________\n"
     ]
    }
   ],
   "source": [
    "dnn_model.build()  # computional graph\n",
    "dnn_model.summary()"
   ]
  },
  {
   "cell_type": "code",
   "execution_count": 11,
   "metadata": {},
   "outputs": [
    {
     "data": {
      "text/plain": [
       "[<tensorflow.python.keras.layers.core.Dense at 0x24b0bdcf280>,\n",
       " <tensorflow.python.keras.layers.core.Dense at 0x24b0bdcf640>,\n",
       " <tensorflow.python.keras.layers.core.Dense at 0x24b12dc7550>,\n",
       " <tensorflow.python.keras.layers.core.Dense at 0x24b12f25100>]"
      ]
     },
     "execution_count": 11,
     "metadata": {},
     "output_type": "execute_result"
    }
   ],
   "source": [
    "dnn_model.layers"
   ]
  },
  {
   "cell_type": "code",
   "execution_count": 12,
   "metadata": {},
   "outputs": [
    {
     "name": "stdout",
     "output_type": "stream",
     "text": [
      "dense\n"
     ]
    }
   ],
   "source": [
    "hidden1 = dnn_model.layers[0]\n",
    "print(hidden1.name)"
   ]
  },
  {
   "cell_type": "code",
   "execution_count": 13,
   "metadata": {},
   "outputs": [],
   "source": [
    "model_init = dnn_model.get_weights()\n",
    "weights, biases = hidden1.get_weights()"
   ]
  },
  {
   "cell_type": "code",
   "execution_count": 14,
   "metadata": {},
   "outputs": [
    {
     "data": {
      "text/plain": [
       "(16, 10)"
      ]
     },
     "execution_count": 14,
     "metadata": {},
     "output_type": "execute_result"
    }
   ],
   "source": [
    "weights.shape"
   ]
  },
  {
   "cell_type": "code",
   "execution_count": 15,
   "metadata": {},
   "outputs": [
    {
     "data": {
      "text/plain": [
       "(10,)"
      ]
     },
     "execution_count": 15,
     "metadata": {},
     "output_type": "execute_result"
    }
   ],
   "source": [
    "biases.shape"
   ]
  },
  {
   "cell_type": "markdown",
   "metadata": {},
   "source": [
    "#### <span style=\"color:#0b486b\">3. Compiling Model </span>"
   ]
  },
  {
   "cell_type": "code",
   "execution_count": 16,
   "metadata": {},
   "outputs": [],
   "source": [
    "dnn_model.compile(optimizer='adam', loss='sparse_categorical_crossentropy', metrics=['accuracy'])"
   ]
  },
  {
   "cell_type": "markdown",
   "metadata": {},
   "source": [
    "#### <span style=\"color:#0b486b\">4. Training and Evaluating </span>"
   ]
  },
  {
   "cell_type": "code",
   "execution_count": 17,
   "metadata": {},
   "outputs": [
    {
     "name": "stdout",
     "output_type": "stream",
     "text": [
      "Epoch 1/20\n",
      "375/375 [==============================] - 1s 907us/step - loss: 2.9404 - accuracy: 0.1262 - val_loss: 2.2729 - val_accuracy: 0.3247\n",
      "Epoch 2/20\n",
      "375/375 [==============================] - 0s 643us/step - loss: 1.8908 - accuracy: 0.4113 - val_loss: 1.7285 - val_accuracy: 0.4653\n",
      "Epoch 3/20\n",
      "375/375 [==============================] - 0s 632us/step - loss: 1.6079 - accuracy: 0.5067 - val_loss: 1.5617 - val_accuracy: 0.5367\n",
      "Epoch 4/20\n",
      "375/375 [==============================] - 0s 632us/step - loss: 1.4684 - accuracy: 0.5633 - val_loss: 1.4562 - val_accuracy: 0.5707\n",
      "Epoch 5/20\n",
      "375/375 [==============================] - 0s 649us/step - loss: 1.3768 - accuracy: 0.5936 - val_loss: 1.3759 - val_accuracy: 0.5867\n",
      "Epoch 6/20\n",
      "375/375 [==============================] - 0s 653us/step - loss: 1.3061 - accuracy: 0.6137 - val_loss: 1.3088 - val_accuracy: 0.6173\n",
      "Epoch 7/20\n",
      "375/375 [==============================] - 0s 674us/step - loss: 1.2453 - accuracy: 0.6270 - val_loss: 1.2581 - val_accuracy: 0.6187\n",
      "Epoch 8/20\n",
      "375/375 [==============================] - 0s 643us/step - loss: 1.1907 - accuracy: 0.6414 - val_loss: 1.2041 - val_accuracy: 0.6327\n",
      "Epoch 9/20\n",
      "375/375 [==============================] - 0s 659us/step - loss: 1.1412 - accuracy: 0.6590 - val_loss: 1.1619 - val_accuracy: 0.6487\n",
      "Epoch 10/20\n",
      "375/375 [==============================] - 0s 668us/step - loss: 1.0970 - accuracy: 0.6697 - val_loss: 1.1235 - val_accuracy: 0.6493\n",
      "Epoch 11/20\n",
      "375/375 [==============================] - 0s 681us/step - loss: 1.0574 - accuracy: 0.6802 - val_loss: 1.0844 - val_accuracy: 0.6820\n",
      "Epoch 12/20\n",
      "375/375 [==============================] - 0s 649us/step - loss: 1.0203 - accuracy: 0.6933 - val_loss: 1.0418 - val_accuracy: 0.7053\n",
      "Epoch 13/20\n",
      "375/375 [==============================] - 0s 669us/step - loss: 0.9910 - accuracy: 0.7047 - val_loss: 1.0084 - val_accuracy: 0.7080\n",
      "Epoch 14/20\n",
      "375/375 [==============================] - 0s 701us/step - loss: 0.9602 - accuracy: 0.7135 - val_loss: 0.9885 - val_accuracy: 0.7187\n",
      "Epoch 15/20\n",
      "375/375 [==============================] - 0s 622us/step - loss: 0.9381 - accuracy: 0.7229 - val_loss: 0.9686 - val_accuracy: 0.7147\n",
      "Epoch 16/20\n",
      "375/375 [==============================] - 0s 691us/step - loss: 0.9159 - accuracy: 0.7302 - val_loss: 0.9489 - val_accuracy: 0.7300\n",
      "Epoch 17/20\n",
      "375/375 [==============================] - 0s 654us/step - loss: 0.8984 - accuracy: 0.7337 - val_loss: 0.9268 - val_accuracy: 0.7427\n",
      "Epoch 18/20\n",
      "375/375 [==============================] - 0s 644us/step - loss: 0.8846 - accuracy: 0.7398 - val_loss: 0.9176 - val_accuracy: 0.7387\n",
      "Epoch 19/20\n",
      "375/375 [==============================] - 0s 664us/step - loss: 0.8703 - accuracy: 0.7429 - val_loss: 0.8929 - val_accuracy: 0.7440\n",
      "Epoch 20/20\n",
      "375/375 [==============================] - 0s 696us/step - loss: 0.8569 - accuracy: 0.7467 - val_loss: 0.8870 - val_accuracy: 0.7393\n"
     ]
    }
   ],
   "source": [
    "history = dnn_model.fit(x=X_train, y=y_train, batch_size=32, epochs=20, validation_data=(X_valid, y_valid))"
   ]
  },
  {
   "cell_type": "markdown",
   "metadata": {},
   "source": [
    "We now can evaluate the trained model on the test set or any subset."
   ]
  },
  {
   "cell_type": "code",
   "execution_count": 18,
   "metadata": {},
   "outputs": [
    {
     "name": "stdout",
     "output_type": "stream",
     "text": [
      "47/47 [==============================] - 0s 563us/step - loss: 0.8889 - accuracy: 0.7300\n"
     ]
    },
    {
     "data": {
      "text/plain": [
       "[0.8888612389564514, 0.7300000190734863]"
      ]
     },
     "execution_count": 18,
     "metadata": {},
     "output_type": "execute_result"
    }
   ],
   "source": [
    "dnn_model.evaluate(X_test, y_test)  #return loss and accuracy"
   ]
  },
  {
   "cell_type": "code",
   "execution_count": 19,
   "metadata": {},
   "outputs": [
    {
     "data": {
      "text/plain": [
       "array([0.  , 0.  , 0.  , 0.24, 0.  , 0.05, 0.  , 0.  , 0.  , 0.  , 0.  ,\n",
       "       0.  , 0.  , 0.  , 0.  , 0.7 , 0.  , 0.  , 0.  , 0.  , 0.  , 0.  ,\n",
       "       0.  , 0.  , 0.  , 0.  ], dtype=float32)"
      ]
     },
     "execution_count": 19,
     "metadata": {},
     "output_type": "execute_result"
    }
   ],
   "source": [
    "X_new = X_test[:10]\n",
    "y_prob = dnn_model.predict(X_new)\n",
    "y_prob[0].round(2)"
   ]
  },
  {
   "cell_type": "code",
   "execution_count": 20,
   "metadata": {},
   "outputs": [
    {
     "name": "stdout",
     "output_type": "stream",
     "text": [
      "Incorrect prediction!\n",
      "Corrected predeiction!\n",
      "Incorrect prediction!\n",
      "Incorrect prediction!\n",
      "Corrected predeiction!\n",
      "Corrected predeiction!\n",
      "Corrected predeiction!\n",
      "Corrected predeiction!\n",
      "Corrected predeiction!\n",
      "Corrected predeiction!\n"
     ]
    }
   ],
   "source": [
    "y_pred = np.argmax(dnn_model.predict(X_new), axis=-1)\n",
    "for i in range(X_new.shape[0]):\n",
    "    if y_pred[i]==y_test[i]:\n",
    "        print(\"Corrected predeiction!\")\n",
    "    else:\n",
    "        print(\"Incorrect prediction!\")"
   ]
  },
  {
   "cell_type": "markdown",
   "metadata": {},
   "source": [
    "#### <span style=\"color:#0b486b\">5. Visualizing the Performance and Loss Objective Function </span>\n",
    "\n",
    "The `fit()` method returns a History object containing the training parameters (history.params), the list of epochs it went through (history.epoch), and most importantly a dictionary (history.history) containing the loss and extra metrics it measured at the end of each epoch on the training set and on the validation set (if any). If you use this dictionary to create a pandas DataFrame and call its plot() method, you get the learning curves shown in the following."
   ]
  },
  {
   "cell_type": "code",
   "execution_count": 21,
   "metadata": {},
   "outputs": [
    {
     "data": {
      "image/png": "[encoded data removed]",
      "text/plain": [
       "<Figure size 576x360 with 1 Axes>"
      ]
     },
     "metadata": {
      "needs_background": "light"
     },
     "output_type": "display_data"
    }
   ],
   "source": [
    "import pandas as pd\n",
    "import matplotlib.pyplot as plt\n",
    "pd.DataFrame(history.history).plot(figsize=(8, 5))\n",
    "plt.grid(True)\n",
    "plt.gca().set_ylim(0, 1) # set the vertical range to [0-1]\n",
    "plt.show()"
   ]
  },
  {
   "cell_type": "markdown",
   "metadata": {},
   "source": [
    "#### <span style=\"color:#0b486b\">6. Playing around with different optimizers</span>"
   ]
  },
  {
   "cell_type": "code",
   "execution_count": 22,
   "metadata": {},
   "outputs": [
    {
     "name": "stdout",
     "output_type": "stream",
     "text": [
      "*Evaluating with Nadam\n",
      "\n",
      "47/47 [==============================] - 0s 499us/step - loss: 0.8163 - accuracy: 0.7527\n",
      "The test accuracy is 0.7526666522026062\n",
      "\n",
      "*Evaluating with Adam\n",
      "\n",
      "47/47 [==============================] - 0s 471us/step - loss: 0.7707 - accuracy: 0.7760\n",
      "The test accuracy is 0.7760000228881836\n",
      "\n",
      "*Evaluating with Adadelta\n",
      "\n",
      "47/47 [==============================] - 0s 363us/step - loss: 3.2525 - accuracy: 0.0487\n",
      "The test accuracy is 0.04866666719317436\n",
      "\n",
      "*Evaluating with Adagrad\n",
      "\n",
      "47/47 [==============================] - 0s 671us/step - loss: 3.1262 - accuracy: 0.0813\n",
      "The test accuracy is 0.08133333176374435\n",
      "\n",
      "*Evaluating with RMSprop\n",
      "\n",
      "47/47 [==============================] - 0s 520us/step - loss: 0.8285 - accuracy: 0.7467\n",
      "The test accuracy is 0.746666669845581\n",
      "\n",
      "*Evaluating with SGD\n",
      "\n",
      "47/47 [==============================] - 0s 520us/step - loss: 3.1807 - accuracy: 0.0880\n",
      "The test accuracy is 0.08799999952316284\n",
      "\n",
      "The best accuracy is 0.7760000228881836 with Adam\n"
     ]
    }
   ],
   "source": [
    "from tensorflow import keras\n",
    "optimizer_names = [\"Nadam\", \"Adam\", \"Adadelta\", \"Adagrad\", \"RMSprop\", \"SGD\"]\n",
    "optimizer_list = [keras.optimizers.Nadam(learning_rate=0.001), keras.optimizers.Adam(learning_rate=0.001), keras.optimizers.Adadelta(learning_rate=0.001), \n",
    "                  keras.optimizers.Adagrad(learning_rate=0.001), keras.optimizers.RMSprop(learning_rate=0.001), keras.optimizers.SGD(learning_rate=0.001)]\n",
    "best_acc = 0\n",
    "best_i = -1\n",
    "for i in range(len(optimizer_list)):\n",
    "    dnn_model.set_weights(model_init)\n",
    "    print(\"*Evaluating with {}\\n\".format(str(optimizer_names[i])))\n",
    "    dnn_model.compile(optimizer=optimizer_list[i], loss='sparse_categorical_crossentropy', metrics=['accuracy'])\n",
    "    dnn_model.fit(x=X_train, y=y_train, batch_size=32, epochs=30, validation_data=(X_valid, y_valid), verbose=0)\n",
    "    acc = dnn_model.evaluate(X_test, y_test)[1]\n",
    "    print(\"The test accuracy is {}\\n\".format(acc))\n",
    "    if acc > best_acc:\n",
    "        best_acc = acc\n",
    "        best_i = i\n",
    "print(\"The best accuracy is {} with {}\".format(best_acc, optimizer_names[best_i]))\n",
    "        "
   ]
  },
  {
   "cell_type": "markdown",
   "metadata": {},
   "source": [
    "### <span style=\"color:#0b486b\"> II.3 Other Approaches to Build Up Models with TensorFlow 2.x</span> <span style=\"color:red\">*** (relatively important)</span>"
   ]
  },
  {
   "cell_type": "markdown",
   "metadata": {},
   "source": [
    "#### <span style=\"color:#0b486b\"> 1. Approach 1: Declaring a class inherited from `tf.keras.Model`</span>"
   ]
  },
  {
   "cell_type": "code",
   "execution_count": 23,
   "metadata": {},
   "outputs": [],
   "source": [
    "class MyDNN(tf.keras.Model):\n",
    "    def __init__(self, n_classes= 26):\n",
    "        super(MyDNN, self).__init__()\n",
    "        self.n_classes = n_classes\n",
    "        self.dense1 = tf.keras.layers.Dense(units=10, activation= 'relu')\n",
    "        self.dense2 = tf.keras.layers.Dense(units=20, activation= 'relu')\n",
    "        self.dense3 = tf.keras.layers.Dense(units=15, activation= 'relu')\n",
    "        self.dense4 = tf.keras.layers.Dense(units=self.n_classes, activation= 'softmax')\n",
    "    \n",
    "    def call(self,X): #X is the input, method call specifies how to compute the output from the input X\n",
    "        h = self.dense1(X)\n",
    "        h = self.dense2(h)\n",
    "        h = self.dense3(h)\n",
    "        h = self.dense4(h)\n",
    "        return h"
   ]
  },
  {
   "cell_type": "code",
   "execution_count": 24,
   "metadata": {},
   "outputs": [
    {
     "name": "stdout",
     "output_type": "stream",
     "text": [
      "Epoch 1/20\n",
      "188/188 [==============================] - 0s 1ms/step - loss: 3.1689 - accuracy: 0.0828 - val_loss: 2.8698 - val_accuracy: 0.1507\n",
      "Epoch 2/20\n",
      "188/188 [==============================] - 0s 704us/step - loss: 2.4778 - accuracy: 0.2648 - val_loss: 2.1183 - val_accuracy: 0.3647\n",
      "Epoch 3/20\n",
      "188/188 [==============================] - 0s 709us/step - loss: 1.9907 - accuracy: 0.4020 - val_loss: 1.8032 - val_accuracy: 0.4667\n",
      "Epoch 4/20\n",
      "188/188 [==============================] - 0s 741us/step - loss: 1.7467 - accuracy: 0.4718 - val_loss: 1.6465 - val_accuracy: 0.5080\n",
      "Epoch 5/20\n",
      "188/188 [==============================] - 0s 736us/step - loss: 1.6075 - accuracy: 0.5138 - val_loss: 1.5547 - val_accuracy: 0.5333\n",
      "Epoch 6/20\n",
      "188/188 [==============================] - 0s 757us/step - loss: 1.5142 - accuracy: 0.5474 - val_loss: 1.4882 - val_accuracy: 0.5567\n",
      "Epoch 7/20\n",
      "188/188 [==============================] - 0s 704us/step - loss: 1.4443 - accuracy: 0.5718 - val_loss: 1.4218 - val_accuracy: 0.5773\n",
      "Epoch 8/20\n",
      "188/188 [==============================] - 0s 763us/step - loss: 1.3873 - accuracy: 0.5877 - val_loss: 1.3811 - val_accuracy: 0.5827\n",
      "Epoch 9/20\n",
      "188/188 [==============================] - 0s 731us/step - loss: 1.3442 - accuracy: 0.5988 - val_loss: 1.3338 - val_accuracy: 0.6080\n",
      "Epoch 10/20\n",
      "188/188 [==============================] - 0s 720us/step - loss: 1.3009 - accuracy: 0.6168 - val_loss: 1.3043 - val_accuracy: 0.6180\n",
      "Epoch 11/20\n",
      "188/188 [==============================] - 0s 720us/step - loss: 1.2590 - accuracy: 0.6292 - val_loss: 1.2547 - val_accuracy: 0.6340\n",
      "Epoch 12/20\n",
      "188/188 [==============================] - 0s 752us/step - loss: 1.2185 - accuracy: 0.6432 - val_loss: 1.2184 - val_accuracy: 0.6440\n",
      "Epoch 13/20\n",
      "188/188 [==============================] - 0s 731us/step - loss: 1.1814 - accuracy: 0.6542 - val_loss: 1.1886 - val_accuracy: 0.6613\n",
      "Epoch 14/20\n",
      "188/188 [==============================] - 0s 683us/step - loss: 1.1474 - accuracy: 0.6643 - val_loss: 1.1700 - val_accuracy: 0.6607\n",
      "Epoch 15/20\n",
      "188/188 [==============================] - 0s 725us/step - loss: 1.1174 - accuracy: 0.6714 - val_loss: 1.1435 - val_accuracy: 0.6813\n",
      "Epoch 16/20\n",
      "188/188 [==============================] - 0s 677us/step - loss: 1.0887 - accuracy: 0.6858 - val_loss: 1.1217 - val_accuracy: 0.6887\n",
      "Epoch 17/20\n",
      "188/188 [==============================] - 0s 757us/step - loss: 1.0673 - accuracy: 0.6930 - val_loss: 1.0965 - val_accuracy: 0.6907\n",
      "Epoch 18/20\n",
      "188/188 [==============================] - 0s 715us/step - loss: 1.0431 - accuracy: 0.6967 - val_loss: 1.0799 - val_accuracy: 0.6953\n",
      "Epoch 19/20\n",
      "188/188 [==============================] - 0s 757us/step - loss: 1.0246 - accuracy: 0.7015 - val_loss: 1.0804 - val_accuracy: 0.6867\n",
      "Epoch 20/20\n",
      "188/188 [==============================] - 0s 709us/step - loss: 1.0076 - accuracy: 0.7072 - val_loss: 1.0533 - val_accuracy: 0.6973\n"
     ]
    },
    {
     "data": {
      "text/plain": [
       "<tensorflow.python.keras.callbacks.History at 0x24b23111a90>"
      ]
     },
     "execution_count": 24,
     "metadata": {},
     "output_type": "execute_result"
    }
   ],
   "source": [
    "mydnn = MyDNN(n_classes= 26)\n",
    "mydnn.compile(optimizer='adam', loss='sparse_categorical_crossentropy', metrics=['accuracy'])\n",
    "mydnn.fit(x= X_train, y= y_train, batch_size= 64, epochs= 20, validation_data = (X_valid, y_valid))"
   ]
  },
  {
   "cell_type": "markdown",
   "metadata": {},
   "source": [
    "#### <span style=\"color:#0b486b\"> 2. Approach 2: Using `tf.keras.Model` Directly</span>"
   ]
  },
  {
   "cell_type": "code",
   "execution_count": 25,
   "metadata": {},
   "outputs": [],
   "source": [
    "X = tf.keras.layers.Input(shape=(16,)) #declare input layer\n",
    "h = Dense(units=10, activation= 'relu')(X)\n",
    "h = Dense(units=20, activation= 'relu')(h)\n",
    "h = Dense(units=15, activation= 'relu')(h)\n",
    "h = Dense(units=26, activation= 'softmax')(h)\n",
    "dnn_model = tf.keras.Model(inputs= X, outputs=h)"
   ]
  },
  {
   "cell_type": "code",
   "execution_count": 26,
   "metadata": {},
   "outputs": [
    {
     "name": "stdout",
     "output_type": "stream",
     "text": [
      "Epoch 1/20\n",
      "188/188 [==============================] - 0s 1ms/step - loss: 3.1987 - accuracy: 0.0688 - val_loss: 3.0583 - val_accuracy: 0.0853\n",
      "Epoch 2/20\n",
      "188/188 [==============================] - 0s 768us/step - loss: 2.6083 - accuracy: 0.2072 - val_loss: 2.1814 - val_accuracy: 0.3100\n",
      "Epoch 3/20\n",
      "188/188 [==============================] - 0s 741us/step - loss: 1.9828 - accuracy: 0.3913 - val_loss: 1.8144 - val_accuracy: 0.4473\n",
      "Epoch 4/20\n",
      "188/188 [==============================] - 0s 731us/step - loss: 1.7234 - accuracy: 0.4799 - val_loss: 1.6431 - val_accuracy: 0.5127\n",
      "Epoch 5/20\n",
      "188/188 [==============================] - 0s 731us/step - loss: 1.5847 - accuracy: 0.5250 - val_loss: 1.5305 - val_accuracy: 0.5587\n",
      "Epoch 6/20\n",
      "188/188 [==============================] - 0s 757us/step - loss: 1.4864 - accuracy: 0.5635 - val_loss: 1.4480 - val_accuracy: 0.5773\n",
      "Epoch 7/20\n",
      "188/188 [==============================] - 0s 741us/step - loss: 1.4116 - accuracy: 0.5867 - val_loss: 1.3805 - val_accuracy: 0.5967\n",
      "Epoch 8/20\n",
      "188/188 [==============================] - 0s 741us/step - loss: 1.3508 - accuracy: 0.6054 - val_loss: 1.3291 - val_accuracy: 0.6100\n",
      "Epoch 9/20\n",
      "188/188 [==============================] - 0s 741us/step - loss: 1.3000 - accuracy: 0.6267 - val_loss: 1.2840 - val_accuracy: 0.6213\n",
      "Epoch 10/20\n",
      "188/188 [==============================] - 0s 757us/step - loss: 1.2596 - accuracy: 0.6361 - val_loss: 1.2381 - val_accuracy: 0.6413\n",
      "Epoch 11/20\n",
      "188/188 [==============================] - 0s 752us/step - loss: 1.2239 - accuracy: 0.6485 - val_loss: 1.2144 - val_accuracy: 0.6553\n",
      "Epoch 12/20\n",
      "188/188 [==============================] - 0s 747us/step - loss: 1.1947 - accuracy: 0.6567 - val_loss: 1.1848 - val_accuracy: 0.6540\n",
      "Epoch 13/20\n",
      "188/188 [==============================] - 0s 741us/step - loss: 1.1676 - accuracy: 0.6670 - val_loss: 1.1562 - val_accuracy: 0.6793\n",
      "Epoch 14/20\n",
      "188/188 [==============================] - 0s 763us/step - loss: 1.1441 - accuracy: 0.6708 - val_loss: 1.1377 - val_accuracy: 0.6713\n",
      "Epoch 15/20\n",
      "188/188 [==============================] - 0s 747us/step - loss: 1.1218 - accuracy: 0.6794 - val_loss: 1.1216 - val_accuracy: 0.6793\n",
      "Epoch 16/20\n",
      "188/188 [==============================] - 0s 768us/step - loss: 1.1016 - accuracy: 0.6859 - val_loss: 1.0931 - val_accuracy: 0.6900\n",
      "Epoch 17/20\n",
      "188/188 [==============================] - 0s 763us/step - loss: 1.0792 - accuracy: 0.6931 - val_loss: 1.0840 - val_accuracy: 0.6907\n",
      "Epoch 18/20\n",
      "188/188 [==============================] - 0s 725us/step - loss: 1.0604 - accuracy: 0.6971 - val_loss: 1.0831 - val_accuracy: 0.6913\n",
      "Epoch 19/20\n",
      "188/188 [==============================] - 0s 725us/step - loss: 1.0427 - accuracy: 0.7048 - val_loss: 1.0494 - val_accuracy: 0.6993\n",
      "Epoch 20/20\n",
      "188/188 [==============================] - 0s 763us/step - loss: 1.0239 - accuracy: 0.7102 - val_loss: 1.0325 - val_accuracy: 0.7127\n"
     ]
    },
    {
     "data": {
      "text/plain": [
       "<tensorflow.python.keras.callbacks.History at 0x24b24234d00>"
      ]
     },
     "execution_count": 26,
     "metadata": {},
     "output_type": "execute_result"
    }
   ],
   "source": [
    "dnn_model.compile(optimizer='adam', loss='sparse_categorical_crossentropy', metrics=['accuracy'])\n",
    "dnn_model.fit(x= X_train, y= y_train, batch_size= 64, epochs= 20, validation_data = (X_valid, y_valid))"
   ]
  },
  {
   "cell_type": "markdown",
   "metadata": {},
   "source": [
    "#### <span style=\"color:#0b486b\"> 3. Approach 3: Using Traditional Mini-batch Approach</span>"
   ]
  },
  {
   "cell_type": "markdown",
   "metadata": {},
   "source": [
    "##### <span style=\"color:#0b486b\">Define a DL model </span>"
   ]
  },
  {
   "cell_type": "code",
   "execution_count": 27,
   "metadata": {},
   "outputs": [],
   "source": [
    "dnn_model = Sequential()\n",
    "dnn_model.add(Dense(units=10,  input_shape=(16,), activation='relu'))\n",
    "dnn_model.add(Dense(units=20, activation='relu'))\n",
    "dnn_model.add(Dense(units=15, activation='relu'))\n",
    "dnn_model.add(Dense(units=n_classes, activation='softmax'))\n",
    "dnn_model.compile(optimizer='adam', loss='sparse_categorical_crossentropy', metrics=['accuracy'])"
   ]
  },
  {
   "cell_type": "markdown",
   "metadata": {},
   "source": [
    "##### <span style=\"color:#0b486b\">Train model in many epochs</span>"
   ]
  },
  {
   "cell_type": "code",
   "execution_count": 28,
   "metadata": {},
   "outputs": [
    {
     "name": "stdout",
     "output_type": "stream",
     "text": [
      "Epoch 1: train acc=0.2031, train loss=2.8440 | valid acc=0.1973, valid loss= 2.8379\n",
      "Epoch 2: train acc=0.3603, train loss=2.0544 | valid acc=0.3680, valid loss= 2.0491\n",
      "Epoch 3: train acc=0.4647, train loss=1.7685 | valid acc=0.4620, valid loss= 1.7728\n",
      "Epoch 4: train acc=0.5138, train loss=1.6146 | valid acc=0.5133, valid loss= 1.6179\n",
      "Epoch 5: train acc=0.5567, train loss=1.4894 | valid acc=0.5567, valid loss= 1.4892\n",
      "Epoch 6: train acc=0.5961, train loss=1.3852 | valid acc=0.5893, valid loss= 1.3807\n",
      "Epoch 7: train acc=0.6194, train loss=1.3077 | valid acc=0.6187, valid loss= 1.3014\n",
      "Epoch 8: train acc=0.6377, train loss=1.2450 | valid acc=0.6313, valid loss= 1.2390\n",
      "Epoch 9: train acc=0.6504, train loss=1.1955 | valid acc=0.6480, valid loss= 1.1906\n",
      "Epoch 10: train acc=0.6632, train loss=1.1533 | valid acc=0.6647, valid loss= 1.1504\n",
      "Epoch 11: train acc=0.6756, train loss=1.1161 | valid acc=0.6787, valid loss= 1.1157\n",
      "Epoch 12: train acc=0.6873, train loss=1.0830 | valid acc=0.6800, valid loss= 1.0854\n",
      "Epoch 13: train acc=0.6952, train loss=1.0534 | valid acc=0.6867, valid loss= 1.0593\n",
      "Epoch 14: train acc=0.7043, train loss=1.0264 | valid acc=0.6947, valid loss= 1.0357\n",
      "Epoch 15: train acc=0.7105, train loss=1.0019 | valid acc=0.7033, valid loss= 1.0150\n",
      "Epoch 16: train acc=0.7163, train loss=0.9797 | valid acc=0.7140, valid loss= 0.9960\n",
      "Epoch 17: train acc=0.7219, train loss=0.9597 | valid acc=0.7160, valid loss= 0.9789\n",
      "Epoch 18: train acc=0.7272, train loss=0.9422 | valid acc=0.7240, valid loss= 0.9637\n",
      "Epoch 19: train acc=0.7318, train loss=0.9260 | valid acc=0.7260, valid loss= 0.9495\n",
      "Epoch 20: train acc=0.7360, train loss=0.9112 | valid acc=0.7300, valid loss= 0.9376\n"
     ]
    }
   ],
   "source": [
    "n_epochs =20\n",
    "batch_size = 64\n",
    "for epoch in range(n_epochs):\n",
    "    for idx_start in range(0, X_train.shape[0], batch_size):\n",
    "        idx_end = min(X_train.shape[0], idx_start + batch_size)\n",
    "        X_batch, y_batch = X_train[idx_start:idx_end], y_train[idx_start:idx_end]\n",
    "        train_loss_batch = dnn_model.train_on_batch(X_batch, y_batch)  #return the batch loss\n",
    "        \n",
    "    train_loss, train_acc = dnn_model.evaluate(x= X_train, y= y_train, batch_size= 64, verbose= 0)\n",
    "    valid_loss, valid_acc = dnn_model.evaluate(x= X_valid, y= y_valid, batch_size= 64, verbose= 0)\n",
    "    print('Epoch {}: train acc={:.4f}, train loss={:.4f} | valid acc={:.4f}, valid loss= {:.4f}'.format(epoch + 1, train_acc, train_loss, valid_acc, valid_loss))"
   ]
  },
  {
   "cell_type": "markdown",
   "metadata": {},
   "source": [
    "### <span style=\"color:#0b486b\"> Additional Exercises </span> "
   ]
  },
  {
   "cell_type": "markdown",
   "metadata": {},
   "source": [
    "1. Write your own code to save a trained model to the hard disk and restore this model, then use the restored model to output the prediction result on the test set."
   ]
  },
  {
   "cell_type": "markdown",
   "metadata": {},
   "source": [
    "2. Write code to tune the learning rate in the list [0.1, 0.01, 0.001, 0.005] for Adam."
   ]
  },
  {
   "cell_type": "markdown",
   "metadata": {},
   "source": [
    "3. Insert new code to the above code to enable outputting to TensorBoard the values of `training loss`, `training accuracy`, `valid loss`, and `valid accuracy` at the end of epochs. You can refer to the code [here](https://www.tensorflow.org/tensorboard/get_started)."
   ]
  },
  {
   "cell_type": "markdown",
   "metadata": {},
   "source": [
    "4. Write code to do regression on the dataset `cadata` which can be downloaded [here](https://www.csie.ntu.edu.tw/~cjlin/libsvmtools/datasets/regression.html). Note that for a regression problem, you need to use the `L2` loss instead of the `cross-entropy` loss as in a classification problem. "
   ]
  },
  {
   "cell_type": "markdown",
   "metadata": {},
   "source": [
    "### <span style=\"color:#FFA500\"> Solution for the exercise 1"
   ]
  },
  {
   "cell_type": "markdown",
   "metadata": {},
   "source": [
    "A Keras model can be saved and restored via two functions `save()` and `load_model()`."
   ]
  },
  {
   "cell_type": "code",
   "execution_count": 29,
   "metadata": {},
   "outputs": [
    {
     "name": "stdout",
     "output_type": "stream",
     "text": [
      "INFO:tensorflow:Assets written to: ckpt/tf2\\assets\n",
      "Model is saved to: ckpt/tf2\n"
     ]
    }
   ],
   "source": [
    "from tensorflow.keras import models \n",
    "checkpoint_path = \"ckpt/tf2\"\n",
    "\n",
    "dnn_model.save(checkpoint_path)\n",
    "reconstructed_model = models.load_model(checkpoint_path)\n",
    "\n",
    "print(\"Model is saved to: {}\".format(checkpoint_path))"
   ]
  },
  {
   "cell_type": "markdown",
   "metadata": {},
   "source": [
    "We now can evaluate the reconstructed model on the test sett."
   ]
  },
  {
   "cell_type": "code",
   "execution_count": 30,
   "metadata": {},
   "outputs": [
    {
     "name": "stdout",
     "output_type": "stream",
     "text": [
      "47/47 [==============================] - 0s 689us/step - loss: 0.9864 - accuracy: 0.7200\n"
     ]
    },
    {
     "data": {
      "text/plain": [
       "[0.9864100813865662, 0.7200000286102295]"
      ]
     },
     "execution_count": 30,
     "metadata": {},
     "output_type": "execute_result"
    }
   ],
   "source": [
    "reconstructed_model.evaluate(X_test, y_test)"
   ]
  },
  {
   "cell_type": "markdown",
   "metadata": {},
   "source": [
    "### <span style=\"color:#FFA500\"> Solution for the exercise 2"
   ]
  },
  {
   "cell_type": "markdown",
   "metadata": {},
   "source": [
    "Similar to Section II.2.6, we can replace the list of optimizers by a list of learning rates. "
   ]
  },
  {
   "cell_type": "code",
   "execution_count": 31,
   "metadata": {},
   "outputs": [
    {
     "name": "stdout",
     "output_type": "stream",
     "text": [
      "*Evaluating with learning rate = 0.1\n",
      "\n",
      "47/47 [==============================] - 0s 544us/step - loss: 2.5355 - accuracy: 0.1420\n",
      "The test accuracy is 0.1420000046491623\n",
      "\n",
      "*Evaluating with learning rate = 0.01\n",
      "\n",
      "47/47 [==============================] - 0s 624us/step - loss: 0.5593 - accuracy: 0.8167\n",
      "The test accuracy is 0.8166666626930237\n",
      "\n",
      "*Evaluating with learning rate = 0.001\n",
      "\n",
      "47/47 [==============================] - 0s 633us/step - loss: 0.8121 - accuracy: 0.7573\n",
      "The test accuracy is 0.7573333382606506\n",
      "\n",
      "*Evaluating with learning rate = 0.005\n",
      "\n",
      "47/47 [==============================] - 0s 512us/step - loss: 0.6455 - accuracy: 0.7920\n",
      "The test accuracy is 0.7919999957084656\n",
      "\n",
      "The best accuracy is 0.8166666626930237 with 0.01\n"
     ]
    }
   ],
   "source": [
    "from tensorflow import keras\n",
    "learning_rates = [0.1, 0.01, 0.001, 0.005]\n",
    "optimizer_list = [keras.optimizers.Adam(learning_rate=lr) for lr in learning_rates]\n",
    "best_acc = 0\n",
    "best_i = -1\n",
    "for i in range(len(optimizer_list)):\n",
    "    dnn_model.set_weights(model_init)\n",
    "    print(\"*Evaluating with learning rate = {}\\n\".format(str(learning_rates[i])))\n",
    "    dnn_model.compile(optimizer=optimizer_list[i], loss='sparse_categorical_crossentropy', metrics=['accuracy'])\n",
    "    dnn_model.fit(x=X_train, y=y_train, batch_size=32, epochs=30, validation_data=(X_valid, y_valid), verbose=0)\n",
    "    acc = dnn_model.evaluate(X_test, y_test)[1]\n",
    "    print(\"The test accuracy is {}\\n\".format(acc))\n",
    "    if acc > best_acc:\n",
    "        best_acc = acc\n",
    "        best_i = i\n",
    "print(\"The best accuracy is {} with {}\".format(best_acc, learning_rates[best_i]))"
   ]
  },
  {
   "cell_type": "markdown",
   "metadata": {},
   "source": [
    "### <span style=\"color:#FFA500\"> Solution for the exercise 3"
   ]
  },
  {
   "cell_type": "markdown",
   "metadata": {},
   "source": [
    "Firstly, we define a deep learning model. "
   ]
  },
  {
   "cell_type": "code",
   "execution_count": 32,
   "metadata": {},
   "outputs": [],
   "source": [
    "import tensorflow as tf\n",
    "from tensorflow.keras.layers import Dense\n",
    "X = tf.keras.layers.Input(shape=(16,)) # declare input layer\n",
    "h = Dense(units=10, activation= 'relu')(X)\n",
    "h = Dense(units=20, activation= 'relu')(h)\n",
    "h = Dense(units=15, activation= 'relu')(h)\n",
    "h = Dense(units=26, activation= 'softmax')(h)\n",
    "dnn_model = tf.keras.Model(inputs= X, outputs=h)"
   ]
  },
  {
   "cell_type": "markdown",
   "metadata": {},
   "source": [
    "Next, let us combine the defined model with an optimizer, loss, and metrics.\n",
    "Adding a `tf.keras.callbacks.TensorBoard` callback will enable outputting the values of `training loss`, `training accuracy`, `valid loss`, and `valid accuracy` at the end of epochs."
   ]
  },
  {
   "cell_type": "code",
   "execution_count": 33,
   "metadata": {},
   "outputs": [
    {
     "name": "stdout",
     "output_type": "stream",
     "text": [
      "Epoch 1/100\n",
      "375/375 [==============================] - 1s 3ms/step - loss: 2.9862 - accuracy: 0.1168 - val_loss: 2.3230 - val_accuracy: 0.2913\n",
      "Epoch 2/100\n",
      "375/375 [==============================] - 0s 691us/step - loss: 1.8472 - accuracy: 0.4440 - val_loss: 1.5941 - val_accuracy: 0.5400\n",
      "Epoch 3/100\n",
      "375/375 [==============================] - 0s 686us/step - loss: 1.4707 - accuracy: 0.5722 - val_loss: 1.3960 - val_accuracy: 0.5980\n",
      "Epoch 4/100\n",
      "375/375 [==============================] - 0s 671us/step - loss: 1.3151 - accuracy: 0.6125 - val_loss: 1.2630 - val_accuracy: 0.6373\n",
      "Epoch 5/100\n",
      "375/375 [==============================] - 0s 688us/step - loss: 1.2262 - accuracy: 0.6387 - val_loss: 1.1913 - val_accuracy: 0.6573\n",
      "Epoch 6/100\n",
      "375/375 [==============================] - 0s 683us/step - loss: 1.1632 - accuracy: 0.6650 - val_loss: 1.1486 - val_accuracy: 0.6793\n",
      "Epoch 7/100\n",
      "375/375 [==============================] - 0s 683us/step - loss: 1.1128 - accuracy: 0.6813 - val_loss: 1.1014 - val_accuracy: 0.6940\n",
      "Epoch 8/100\n",
      "375/375 [==============================] - 0s 677us/step - loss: 1.0722 - accuracy: 0.6920 - val_loss: 1.0595 - val_accuracy: 0.7053\n",
      "Epoch 9/100\n",
      "375/375 [==============================] - 0s 675us/step - loss: 1.0378 - accuracy: 0.6995 - val_loss: 1.0357 - val_accuracy: 0.7073\n",
      "Epoch 10/100\n",
      "375/375 [==============================] - 0s 680us/step - loss: 1.0065 - accuracy: 0.7080 - val_loss: 0.9987 - val_accuracy: 0.7233\n",
      "Epoch 11/100\n",
      "375/375 [==============================] - 0s 693us/step - loss: 0.9778 - accuracy: 0.7151 - val_loss: 0.9872 - val_accuracy: 0.7200\n",
      "Epoch 12/100\n",
      "375/375 [==============================] - 0s 681us/step - loss: 0.9541 - accuracy: 0.7213 - val_loss: 0.9559 - val_accuracy: 0.7247\n",
      "Epoch 13/100\n",
      "375/375 [==============================] - 0s 673us/step - loss: 0.9333 - accuracy: 0.7285 - val_loss: 0.9471 - val_accuracy: 0.7180\n",
      "Epoch 14/100\n",
      "375/375 [==============================] - 0s 690us/step - loss: 0.9160 - accuracy: 0.7297 - val_loss: 0.9425 - val_accuracy: 0.7287\n",
      "Epoch 15/100\n",
      "375/375 [==============================] - 0s 677us/step - loss: 0.8987 - accuracy: 0.7333 - val_loss: 0.9012 - val_accuracy: 0.7433\n",
      "Epoch 16/100\n",
      "375/375 [==============================] - 0s 696us/step - loss: 0.8816 - accuracy: 0.7389 - val_loss: 0.8976 - val_accuracy: 0.7373\n",
      "Epoch 17/100\n",
      "375/375 [==============================] - 0s 693us/step - loss: 0.8680 - accuracy: 0.7413 - val_loss: 0.8829 - val_accuracy: 0.7460\n",
      "Epoch 18/100\n",
      "375/375 [==============================] - 0s 688us/step - loss: 0.8533 - accuracy: 0.7473 - val_loss: 0.8714 - val_accuracy: 0.7480\n",
      "Epoch 19/100\n",
      "375/375 [==============================] - 0s 680us/step - loss: 0.8423 - accuracy: 0.7497 - val_loss: 0.8495 - val_accuracy: 0.7540\n",
      "Epoch 20/100\n",
      "375/375 [==============================] - 0s 680us/step - loss: 0.8285 - accuracy: 0.7536 - val_loss: 0.8412 - val_accuracy: 0.7573\n",
      "Epoch 21/100\n",
      "375/375 [==============================] - 0s 685us/step - loss: 0.8176 - accuracy: 0.7574 - val_loss: 0.8358 - val_accuracy: 0.7567\n",
      "Epoch 22/100\n",
      "375/375 [==============================] - 0s 675us/step - loss: 0.8067 - accuracy: 0.7607 - val_loss: 0.8290 - val_accuracy: 0.7587\n",
      "Epoch 23/100\n",
      "375/375 [==============================] - 0s 683us/step - loss: 0.7952 - accuracy: 0.7601 - val_loss: 0.8160 - val_accuracy: 0.7647\n",
      "Epoch 24/100\n",
      "375/375 [==============================] - 0s 680us/step - loss: 0.7854 - accuracy: 0.7663 - val_loss: 0.8111 - val_accuracy: 0.7620\n",
      "Epoch 25/100\n",
      "375/375 [==============================] - 0s 696us/step - loss: 0.7781 - accuracy: 0.7680 - val_loss: 0.7913 - val_accuracy: 0.7673\n",
      "Epoch 26/100\n",
      "375/375 [==============================] - 0s 685us/step - loss: 0.7663 - accuracy: 0.7687 - val_loss: 0.7873 - val_accuracy: 0.7707\n",
      "Epoch 27/100\n",
      "375/375 [==============================] - 0s 691us/step - loss: 0.7587 - accuracy: 0.7692 - val_loss: 0.7776 - val_accuracy: 0.7727\n",
      "Epoch 28/100\n",
      "375/375 [==============================] - 0s 683us/step - loss: 0.7507 - accuracy: 0.7701 - val_loss: 0.7816 - val_accuracy: 0.7667\n",
      "Epoch 29/100\n",
      "375/375 [==============================] - 0s 685us/step - loss: 0.7419 - accuracy: 0.7734 - val_loss: 0.7643 - val_accuracy: 0.7767\n",
      "Epoch 30/100\n",
      "375/375 [==============================] - 0s 685us/step - loss: 0.7368 - accuracy: 0.7766 - val_loss: 0.7555 - val_accuracy: 0.7760\n",
      "Epoch 31/100\n",
      "375/375 [==============================] - 0s 699us/step - loss: 0.7273 - accuracy: 0.7763 - val_loss: 0.7481 - val_accuracy: 0.7793\n",
      "Epoch 32/100\n",
      "375/375 [==============================] - 0s 680us/step - loss: 0.7203 - accuracy: 0.7816 - val_loss: 0.7457 - val_accuracy: 0.7800\n",
      "Epoch 33/100\n",
      "375/375 [==============================] - 0s 691us/step - loss: 0.7142 - accuracy: 0.7828 - val_loss: 0.7494 - val_accuracy: 0.7740\n",
      "Epoch 34/100\n",
      "375/375 [==============================] - 0s 693us/step - loss: 0.7087 - accuracy: 0.7828 - val_loss: 0.7335 - val_accuracy: 0.7767\n",
      "Epoch 35/100\n",
      "375/375 [==============================] - 0s 691us/step - loss: 0.7005 - accuracy: 0.7862 - val_loss: 0.7268 - val_accuracy: 0.7813\n",
      "Epoch 36/100\n",
      "375/375 [==============================] - 0s 725us/step - loss: 0.6954 - accuracy: 0.7883 - val_loss: 0.7184 - val_accuracy: 0.7887\n",
      "Epoch 37/100\n",
      "375/375 [==============================] - 0s 685us/step - loss: 0.6917 - accuracy: 0.7874 - val_loss: 0.7315 - val_accuracy: 0.7867\n",
      "Epoch 38/100\n",
      "375/375 [==============================] - 0s 696us/step - loss: 0.6850 - accuracy: 0.7884 - val_loss: 0.7187 - val_accuracy: 0.7853\n",
      "Epoch 39/100\n",
      "375/375 [==============================] - 0s 683us/step - loss: 0.6801 - accuracy: 0.7897 - val_loss: 0.7219 - val_accuracy: 0.7800\n",
      "Epoch 40/100\n",
      "375/375 [==============================] - 0s 683us/step - loss: 0.6747 - accuracy: 0.7895 - val_loss: 0.7091 - val_accuracy: 0.7887\n",
      "Epoch 41/100\n",
      "375/375 [==============================] - 0s 693us/step - loss: 0.6692 - accuracy: 0.7943 - val_loss: 0.7146 - val_accuracy: 0.7940\n",
      "Epoch 42/100\n",
      "375/375 [==============================] - 0s 699us/step - loss: 0.6651 - accuracy: 0.7962 - val_loss: 0.6943 - val_accuracy: 0.7967\n",
      "Epoch 43/100\n",
      "375/375 [==============================] - 0s 712us/step - loss: 0.6607 - accuracy: 0.7954 - val_loss: 0.6905 - val_accuracy: 0.8027\n",
      "Epoch 44/100\n",
      "375/375 [==============================] - 0s 680us/step - loss: 0.6556 - accuracy: 0.8001 - val_loss: 0.6813 - val_accuracy: 0.8013\n",
      "Epoch 45/100\n",
      "375/375 [==============================] - 0s 693us/step - loss: 0.6523 - accuracy: 0.8000 - val_loss: 0.6876 - val_accuracy: 0.7960\n",
      "Epoch 46/100\n",
      "375/375 [==============================] - 0s 688us/step - loss: 0.6466 - accuracy: 0.8006 - val_loss: 0.6964 - val_accuracy: 0.7973\n",
      "Epoch 47/100\n",
      "375/375 [==============================] - 0s 683us/step - loss: 0.6407 - accuracy: 0.8027 - val_loss: 0.6712 - val_accuracy: 0.7973\n",
      "Epoch 48/100\n",
      "375/375 [==============================] - 0s 680us/step - loss: 0.6379 - accuracy: 0.8040 - val_loss: 0.6760 - val_accuracy: 0.8007\n",
      "Epoch 49/100\n",
      "375/375 [==============================] - 0s 693us/step - loss: 0.6343 - accuracy: 0.8043 - val_loss: 0.6740 - val_accuracy: 0.8027\n",
      "Epoch 50/100\n",
      "375/375 [==============================] - 0s 685us/step - loss: 0.6305 - accuracy: 0.8043 - val_loss: 0.6616 - val_accuracy: 0.8080\n",
      "Epoch 51/100\n",
      "375/375 [==============================] - 0s 683us/step - loss: 0.6261 - accuracy: 0.8072 - val_loss: 0.6632 - val_accuracy: 0.8020\n",
      "Epoch 52/100\n",
      "375/375 [==============================] - 0s 688us/step - loss: 0.6225 - accuracy: 0.8082 - val_loss: 0.6616 - val_accuracy: 0.8067\n",
      "Epoch 53/100\n",
      "375/375 [==============================] - 0s 688us/step - loss: 0.6210 - accuracy: 0.8088 - val_loss: 0.6595 - val_accuracy: 0.8087\n",
      "Epoch 54/100\n",
      "375/375 [==============================] - 0s 725us/step - loss: 0.6165 - accuracy: 0.8091 - val_loss: 0.6534 - val_accuracy: 0.8007\n",
      "Epoch 55/100\n",
      "375/375 [==============================] - 0s 691us/step - loss: 0.6116 - accuracy: 0.8096 - val_loss: 0.6436 - val_accuracy: 0.8120\n",
      "Epoch 56/100\n",
      "375/375 [==============================] - 0s 683us/step - loss: 0.6088 - accuracy: 0.8102 - val_loss: 0.6449 - val_accuracy: 0.8053\n",
      "Epoch 57/100\n",
      "375/375 [==============================] - 0s 683us/step - loss: 0.6061 - accuracy: 0.8092 - val_loss: 0.6459 - val_accuracy: 0.8100\n",
      "Epoch 58/100\n",
      "375/375 [==============================] - 0s 667us/step - loss: 0.6002 - accuracy: 0.8127 - val_loss: 0.6400 - val_accuracy: 0.8113\n",
      "Epoch 59/100\n",
      "375/375 [==============================] - 0s 677us/step - loss: 0.5976 - accuracy: 0.8137 - val_loss: 0.6414 - val_accuracy: 0.8040\n",
      "Epoch 60/100\n",
      "375/375 [==============================] - 0s 680us/step - loss: 0.5982 - accuracy: 0.8142 - val_loss: 0.6414 - val_accuracy: 0.8087\n",
      "Epoch 61/100\n",
      "375/375 [==============================] - 0s 680us/step - loss: 0.5917 - accuracy: 0.8163 - val_loss: 0.6308 - val_accuracy: 0.8107\n",
      "Epoch 62/100\n",
      "375/375 [==============================] - 0s 701us/step - loss: 0.5908 - accuracy: 0.8153 - val_loss: 0.6336 - val_accuracy: 0.8080\n",
      "Epoch 63/100\n",
      "375/375 [==============================] - 0s 704us/step - loss: 0.5873 - accuracy: 0.8191 - val_loss: 0.6261 - val_accuracy: 0.8127\n",
      "Epoch 64/100\n",
      "375/375 [==============================] - 0s 659us/step - loss: 0.5836 - accuracy: 0.8157 - val_loss: 0.6195 - val_accuracy: 0.8133\n",
      "Epoch 65/100\n",
      "375/375 [==============================] - 0s 683us/step - loss: 0.5801 - accuracy: 0.8188 - val_loss: 0.6297 - val_accuracy: 0.8073\n",
      "Epoch 66/100\n",
      "375/375 [==============================] - 0s 715us/step - loss: 0.5763 - accuracy: 0.8223 - val_loss: 0.6216 - val_accuracy: 0.8093\n",
      "Epoch 67/100\n",
      "375/375 [==============================] - 0s 691us/step - loss: 0.5740 - accuracy: 0.8227 - val_loss: 0.6233 - val_accuracy: 0.8080\n",
      "Epoch 68/100\n",
      "375/375 [==============================] - 0s 616us/step - loss: 0.5713 - accuracy: 0.8222 - val_loss: 0.6178 - val_accuracy: 0.8207\n",
      "Epoch 69/100\n",
      "375/375 [==============================] - 0s 704us/step - loss: 0.5720 - accuracy: 0.8227 - val_loss: 0.6186 - val_accuracy: 0.8180\n",
      "Epoch 70/100\n",
      "375/375 [==============================] - 0s 696us/step - loss: 0.5661 - accuracy: 0.8232 - val_loss: 0.6105 - val_accuracy: 0.8200\n",
      "Epoch 71/100\n",
      "375/375 [==============================] - 0s 688us/step - loss: 0.5649 - accuracy: 0.8229 - val_loss: 0.6068 - val_accuracy: 0.8120\n",
      "Epoch 72/100\n",
      "375/375 [==============================] - 0s 685us/step - loss: 0.5609 - accuracy: 0.8248 - val_loss: 0.6070 - val_accuracy: 0.8173\n",
      "Epoch 73/100\n",
      "375/375 [==============================] - 0s 693us/step - loss: 0.5602 - accuracy: 0.8259 - val_loss: 0.6138 - val_accuracy: 0.8113\n",
      "Epoch 74/100\n",
      "375/375 [==============================] - 0s 683us/step - loss: 0.5570 - accuracy: 0.8268 - val_loss: 0.6159 - val_accuracy: 0.8087\n",
      "Epoch 75/100\n",
      "375/375 [==============================] - 0s 691us/step - loss: 0.5543 - accuracy: 0.8273 - val_loss: 0.6117 - val_accuracy: 0.8187\n",
      "Epoch 76/100\n",
      "375/375 [==============================] - 0s 685us/step - loss: 0.5532 - accuracy: 0.8283 - val_loss: 0.6087 - val_accuracy: 0.8200\n",
      "Epoch 77/100\n",
      "375/375 [==============================] - 0s 685us/step - loss: 0.5531 - accuracy: 0.8299 - val_loss: 0.5976 - val_accuracy: 0.8200\n",
      "Epoch 78/100\n",
      "375/375 [==============================] - 0s 685us/step - loss: 0.5479 - accuracy: 0.8282 - val_loss: 0.6000 - val_accuracy: 0.8180\n",
      "Epoch 79/100\n",
      "375/375 [==============================] - 0s 699us/step - loss: 0.5469 - accuracy: 0.8287 - val_loss: 0.6035 - val_accuracy: 0.8133\n",
      "Epoch 80/100\n",
      "375/375 [==============================] - 0s 688us/step - loss: 0.5458 - accuracy: 0.8327 - val_loss: 0.6065 - val_accuracy: 0.8120\n",
      "Epoch 81/100\n",
      "375/375 [==============================] - 0s 704us/step - loss: 0.5451 - accuracy: 0.8294 - val_loss: 0.6005 - val_accuracy: 0.8220\n",
      "Epoch 82/100\n",
      "375/375 [==============================] - 0s 715us/step - loss: 0.5418 - accuracy: 0.8320 - val_loss: 0.6043 - val_accuracy: 0.8207\n",
      "Epoch 83/100\n",
      "375/375 [==============================] - 0s 691us/step - loss: 0.5392 - accuracy: 0.8317 - val_loss: 0.6140 - val_accuracy: 0.8093\n",
      "Epoch 84/100\n",
      "375/375 [==============================] - 0s 713us/step - loss: 0.5398 - accuracy: 0.8316 - val_loss: 0.5950 - val_accuracy: 0.8207\n",
      "Epoch 85/100\n",
      "375/375 [==============================] - 0s 700us/step - loss: 0.5385 - accuracy: 0.8294 - val_loss: 0.5947 - val_accuracy: 0.8233\n",
      "Epoch 86/100\n",
      "375/375 [==============================] - 0s 743us/step - loss: 0.5332 - accuracy: 0.8327 - val_loss: 0.5981 - val_accuracy: 0.8200\n",
      "Epoch 87/100\n",
      "375/375 [==============================] - 0s 693us/step - loss: 0.5339 - accuracy: 0.8351 - val_loss: 0.6049 - val_accuracy: 0.8187\n",
      "Epoch 88/100\n",
      "375/375 [==============================] - 0s 692us/step - loss: 0.5302 - accuracy: 0.8331 - val_loss: 0.5930 - val_accuracy: 0.8213\n",
      "Epoch 89/100\n",
      "375/375 [==============================] - 0s 686us/step - loss: 0.5269 - accuracy: 0.8354 - val_loss: 0.5790 - val_accuracy: 0.8273\n",
      "Epoch 90/100\n",
      "375/375 [==============================] - 0s 688us/step - loss: 0.5294 - accuracy: 0.8339 - val_loss: 0.5855 - val_accuracy: 0.8233\n",
      "Epoch 91/100\n",
      "375/375 [==============================] - 0s 738us/step - loss: 0.5255 - accuracy: 0.8361 - val_loss: 0.5878 - val_accuracy: 0.8233\n",
      "Epoch 92/100\n",
      "375/375 [==============================] - 0s 683us/step - loss: 0.5274 - accuracy: 0.8350 - val_loss: 0.5839 - val_accuracy: 0.8180\n",
      "Epoch 93/100\n",
      "375/375 [==============================] - 0s 688us/step - loss: 0.5225 - accuracy: 0.8365 - val_loss: 0.6119 - val_accuracy: 0.8127\n",
      "Epoch 94/100\n",
      "375/375 [==============================] - 0s 691us/step - loss: 0.5229 - accuracy: 0.8367 - val_loss: 0.5874 - val_accuracy: 0.8233\n",
      "Epoch 95/100\n",
      "375/375 [==============================] - 0s 691us/step - loss: 0.5203 - accuracy: 0.8361 - val_loss: 0.5763 - val_accuracy: 0.8273\n",
      "Epoch 96/100\n",
      "375/375 [==============================] - 0s 695us/step - loss: 0.5195 - accuracy: 0.8358 - val_loss: 0.5741 - val_accuracy: 0.8267\n",
      "Epoch 97/100\n",
      "375/375 [==============================] - 0s 693us/step - loss: 0.5167 - accuracy: 0.8411 - val_loss: 0.5663 - val_accuracy: 0.8273\n",
      "Epoch 98/100\n",
      "375/375 [==============================] - 0s 676us/step - loss: 0.5153 - accuracy: 0.8401 - val_loss: 0.5783 - val_accuracy: 0.8213\n",
      "Epoch 99/100\n",
      "375/375 [==============================] - 0s 680us/step - loss: 0.5131 - accuracy: 0.8403 - val_loss: 0.5752 - val_accuracy: 0.8273\n",
      "Epoch 100/100\n",
      "375/375 [==============================] - 0s 689us/step - loss: 0.5137 - accuracy: 0.8391 - val_loss: 0.5734 - val_accuracy: 0.8227\n"
     ]
    },
    {
     "data": {
      "text/plain": [
       "<tensorflow.python.keras.callbacks.History at 0x24b27a1feb0>"
      ]
     },
     "execution_count": 33,
     "metadata": {},
     "output_type": "execute_result"
    }
   ],
   "source": [
    "import datetime\n",
    "dnn_model.compile(optimizer='adam', loss='sparse_categorical_crossentropy', metrics=['accuracy'])\n",
    "log_dir = \"logs/tf2/\" + datetime.datetime.now().strftime(\"%Y%m%d-%H%M%S\")  # declare the directory to save logs.\n",
    "tensorboard_callback = tf.keras.callbacks.TensorBoard(log_dir=log_dir, histogram_freq=1)\n",
    "dnn_model.fit(x=X_train, y=y_train, batch_size=32, epochs=100, validation_data=(X_valid, y_valid), callbacks=[tensorboard_callback])"
   ]
  },
  {
   "cell_type": "markdown",
   "metadata": {},
   "source": [
    "- Open command line, nevigate to the folder of this tute and run **> tensorboard --logdir \"logs/tf2\"**"
   ]
  },
  {
   "cell_type": "markdown",
   "metadata": {},
   "source": [
    "### <span style=\"color:#FFA500\"> Solution for the exercise 4"
   ]
  },
  {
   "cell_type": "code",
   "execution_count": 34,
   "metadata": {},
   "outputs": [
    {
     "name": "stdout",
     "output_type": "stream",
     "text": [
      "X data shape: (20640, 8)\n",
      "y data shape: (20640, 1)\n",
      "x-min=-124.35, x-max=39320.0\n",
      "We need to scale the features of this data into [-1,1]\n"
     ]
    }
   ],
   "source": [
    "# We load and process the dataset\n",
    "data_file_name= \"cadata.libsvm\"\n",
    "data_file = os.path.abspath(\"./data/\" + data_file_name)\n",
    "X_data, y_data = load_svmlight_file(data_file)\n",
    "X_data= X_data.toarray()\n",
    "y_data= y_data.reshape(y_data.shape[0],-1)\n",
    "print(\"X data shape: {}\".format(X_data.shape))\n",
    "print(\"y data shape: {}\".format(y_data.shape))\n",
    "print(\"x-min={}, x-max={}\".format(np.min(X_data), np.max(X_data)))\n",
    "print(\"We need to scale the features of this data into [-1,1]\")"
   ]
  },
  {
   "cell_type": "code",
   "execution_count": 35,
   "metadata": {},
   "outputs": [
    {
     "name": "stdout",
     "output_type": "stream",
     "text": [
      "x-min=-1.0, x-max=1.0\n"
     ]
    }
   ],
   "source": [
    "# We scale the features of this data into [-1,1]\n",
    "from sklearn.preprocessing import MinMaxScaler\n",
    "X_data= MinMaxScaler(feature_range= (-1,1)).fit_transform(X_data)\n",
    "print(\"x-min={}, x-max={}\".format(np.min(X_data), np.max(X_data)))"
   ]
  },
  {
   "cell_type": "code",
   "execution_count": 36,
   "metadata": {},
   "outputs": [
    {
     "name": "stdout",
     "output_type": "stream",
     "text": [
      "Before scaling: y-min =14999.0, y-max =500001.0\n",
      "After scaling: y-min =-0.9999999999999999, y-max =1.0\n",
      "Next step is to split the dataset into train (80%), valid (10%), and test (10%)\n"
     ]
    }
   ],
   "source": [
    "print(\"Before scaling: y-min ={}, y-max ={}\".format(np.min(y_data), np.max(y_data)))\n",
    "y_data= MinMaxScaler(feature_range= (-1,1)).fit_transform(y_data)\n",
    "print(\"After scaling: y-min ={}, y-max ={}\".format(np.min(y_data), np.max(y_data)))\n",
    "print(\"Next step is to split the dataset into train (80%), valid (10%), and test (10%)\")"
   ]
  },
  {
   "cell_type": "code",
   "execution_count": 37,
   "metadata": {},
   "outputs": [
    {
     "name": "stdout",
     "output_type": "stream",
     "text": [
      "(16512, 8) (2064, 8) (2064, 8)\n",
      "(16512,) (2064,) (2064,)\n",
      "Three sets are ready! Next step is to build up a deep neural network.\n"
     ]
    }
   ],
   "source": [
    "# We split train, valid and test data\n",
    "X_train, X_valid, X_test, y_train, y_valid, y_test = train_valid_test_split(X_data, y_data, train_size=0.8, test_size=0.1)\n",
    "y_train= y_train.reshape(-1)\n",
    "y_test= y_test.reshape(-1)\n",
    "y_valid= y_valid.reshape(-1)\n",
    "print(X_train.shape, X_valid.shape, X_test.shape)\n",
    "print(y_train.shape, y_valid.shape, y_test.shape)\n",
    "print(\"Three sets are ready! Next step is to build up a deep neural network.\")"
   ]
  },
  {
   "cell_type": "code",
   "execution_count": 38,
   "metadata": {},
   "outputs": [],
   "source": [
    "regression_model = Sequential()\n",
    "regression_model.add(Dense(units=1)) # output has only one neuron\n",
    "regression_model.compile(optimizer=tf.optimizers.Adam(learning_rate=0.0001), loss='mean_squared_error')"
   ]
  },
  {
   "cell_type": "code",
   "execution_count": 39,
   "metadata": {},
   "outputs": [
    {
     "name": "stdout",
     "output_type": "stream",
     "text": [
      "Epoch 1/50\n",
      "516/516 [==============================] - 0s 503us/step - loss: 1.1897 - val_loss: 0.9961\n",
      "Epoch 2/50\n",
      "516/516 [==============================] - 0s 399us/step - loss: 0.8215 - val_loss: 0.7060\n",
      "Epoch 3/50\n",
      "516/516 [==============================] - 0s 391us/step - loss: 0.5978 - val_loss: 0.5356\n",
      "Epoch 4/50\n",
      "516/516 [==============================] - 0s 392us/step - loss: 0.4707 - val_loss: 0.4409\n",
      "Epoch 5/50\n",
      "516/516 [==============================] - 0s 395us/step - loss: 0.4016 - val_loss: 0.3885\n",
      "Epoch 6/50\n",
      "516/516 [==============================] - 0s 392us/step - loss: 0.3617 - val_loss: 0.3550\n",
      "Epoch 7/50\n",
      "516/516 [==============================] - 0s 395us/step - loss: 0.3342 - val_loss: 0.3292\n",
      "Epoch 8/50\n",
      "516/516 [==============================] - 0s 383us/step - loss: 0.3118 - val_loss: 0.3070\n",
      "Epoch 9/50\n",
      "516/516 [==============================] - 0s 383us/step - loss: 0.2923 - val_loss: 0.2875\n",
      "Epoch 10/50\n",
      "516/516 [==============================] - 0s 386us/step - loss: 0.2753 - val_loss: 0.2705\n",
      "Epoch 11/50\n",
      "516/516 [==============================] - 0s 407us/step - loss: 0.2602 - val_loss: 0.2556\n",
      "Epoch 12/50\n",
      "516/516 [==============================] - 0s 382us/step - loss: 0.2470 - val_loss: 0.2423\n",
      "Epoch 13/50\n",
      "516/516 [==============================] - 0s 399us/step - loss: 0.2352 - val_loss: 0.2304\n",
      "Epoch 14/50\n",
      "516/516 [==============================] - 0s 395us/step - loss: 0.2245 - val_loss: 0.2197\n",
      "Epoch 15/50\n",
      "516/516 [==============================] - 0s 391us/step - loss: 0.2147 - val_loss: 0.2099\n",
      "Epoch 16/50\n",
      "516/516 [==============================] - 0s 381us/step - loss: 0.2056 - val_loss: 0.2009\n",
      "Epoch 17/50\n",
      "516/516 [==============================] - 0s 386us/step - loss: 0.1971 - val_loss: 0.1923\n",
      "Epoch 18/50\n",
      "516/516 [==============================] - 0s 392us/step - loss: 0.1891 - val_loss: 0.1843\n",
      "Epoch 19/50\n",
      "516/516 [==============================] - 0s 396us/step - loss: 0.1815 - val_loss: 0.1768\n",
      "Epoch 20/50\n",
      "516/516 [==============================] - 0s 381us/step - loss: 0.1744 - val_loss: 0.1698\n",
      "Epoch 21/50\n",
      "516/516 [==============================] - 0s 388us/step - loss: 0.1677 - val_loss: 0.1631\n",
      "Epoch 22/50\n",
      "516/516 [==============================] - 0s 386us/step - loss: 0.1613 - val_loss: 0.1570\n",
      "Epoch 23/50\n",
      "516/516 [==============================] - 0s 406us/step - loss: 0.1553 - val_loss: 0.1510\n",
      "Epoch 24/50\n",
      "516/516 [==============================] - 0s 386us/step - loss: 0.1497 - val_loss: 0.1456\n",
      "Epoch 25/50\n",
      "516/516 [==============================] - 0s 390us/step - loss: 0.1444 - val_loss: 0.1404\n",
      "Epoch 26/50\n",
      "516/516 [==============================] - 0s 420us/step - loss: 0.1394 - val_loss: 0.1355\n",
      "Epoch 27/50\n",
      "516/516 [==============================] - 0s 412us/step - loss: 0.1347 - val_loss: 0.1311\n",
      "Epoch 28/50\n",
      "516/516 [==============================] - 0s 402us/step - loss: 0.1304 - val_loss: 0.1269\n",
      "Epoch 29/50\n",
      "516/516 [==============================] - 0s 396us/step - loss: 0.1263 - val_loss: 0.1231\n",
      "Epoch 30/50\n",
      "516/516 [==============================] - 0s 395us/step - loss: 0.1226 - val_loss: 0.1196\n",
      "Epoch 31/50\n",
      "516/516 [==============================] - 0s 393us/step - loss: 0.1191 - val_loss: 0.1163\n",
      "Epoch 32/50\n",
      "516/516 [==============================] - 0s 378us/step - loss: 0.1160 - val_loss: 0.1134\n",
      "Epoch 33/50\n",
      "516/516 [==============================] - 0s 400us/step - loss: 0.1131 - val_loss: 0.1107\n",
      "Epoch 34/50\n",
      "516/516 [==============================] - 0s 404us/step - loss: 0.1104 - val_loss: 0.1084\n",
      "Epoch 35/50\n",
      "516/516 [==============================] - 0s 385us/step - loss: 0.1081 - val_loss: 0.1062\n",
      "Epoch 36/50\n",
      "516/516 [==============================] - 0s 389us/step - loss: 0.1059 - val_loss: 0.1043\n",
      "Epoch 37/50\n",
      "516/516 [==============================] - 0s 394us/step - loss: 0.1040 - val_loss: 0.1027\n",
      "Epoch 38/50\n",
      "516/516 [==============================] - 0s 383us/step - loss: 0.1023 - val_loss: 0.1012\n",
      "Epoch 39/50\n",
      "516/516 [==============================] - 0s 380us/step - loss: 0.1009 - val_loss: 0.1000\n",
      "Epoch 40/50\n",
      "516/516 [==============================] - 0s 387us/step - loss: 0.0996 - val_loss: 0.0990\n",
      "Epoch 41/50\n",
      "516/516 [==============================] - 0s 388us/step - loss: 0.0984 - val_loss: 0.0980\n",
      "Epoch 42/50\n",
      "516/516 [==============================] - 0s 389us/step - loss: 0.0974 - val_loss: 0.0972\n",
      "Epoch 43/50\n",
      "516/516 [==============================] - 0s 376us/step - loss: 0.0966 - val_loss: 0.0965\n",
      "Epoch 44/50\n",
      "516/516 [==============================] - 0s 381us/step - loss: 0.0958 - val_loss: 0.0959\n",
      "Epoch 45/50\n",
      "516/516 [==============================] - 0s 408us/step - loss: 0.0952 - val_loss: 0.0955\n",
      "Epoch 46/50\n",
      "516/516 [==============================] - 0s 389us/step - loss: 0.0946 - val_loss: 0.0951\n",
      "Epoch 47/50\n",
      "516/516 [==============================] - 0s 393us/step - loss: 0.0942 - val_loss: 0.0948\n",
      "Epoch 48/50\n",
      "516/516 [==============================] - 0s 401us/step - loss: 0.0938 - val_loss: 0.0945\n",
      "Epoch 49/50\n",
      "516/516 [==============================] - 0s 403us/step - loss: 0.0935 - val_loss: 0.0943\n",
      "Epoch 50/50\n",
      "516/516 [==============================] - 0s 390us/step - loss: 0.0932 - val_loss: 0.0941\n"
     ]
    }
   ],
   "source": [
    "history = regression_model.fit(x= X_train, y= y_train, batch_size= 32, epochs= 50, validation_data = (X_valid, y_valid))"
   ]
  },
  {
   "cell_type": "code",
   "execution_count": 40,
   "metadata": {},
   "outputs": [
    {
     "data": {
      "image/png": "[encoded data removed]",
      "text/plain": [
       "<Figure size 432x288 with 1 Axes>"
      ]
     },
     "metadata": {
      "needs_background": "light"
     },
     "output_type": "display_data"
    }
   ],
   "source": [
    "# plot losses during training\n",
    "from matplotlib import pyplot\n",
    "pyplot.plot(history.history['loss'], label='train')\n",
    "pyplot.plot(history.history['val_loss'], label='validation')\n",
    "pyplot.legend()\n",
    "pyplot.show()"
   ]
  },
  {
   "cell_type": "markdown",
   "metadata": {},
   "source": [
    "We now can evaluate our regression model on the test set."
   ]
  },
  {
   "cell_type": "code",
   "execution_count": 41,
   "metadata": {
    "scrolled": true
   },
   "outputs": [
    {
     "name": "stdout",
     "output_type": "stream",
     "text": [
      "65/65 [==============================] - 0s 372us/step - loss: 0.0942\n"
     ]
    },
    {
     "data": {
      "text/plain": [
       "0.0941537469625473"
      ]
     },
     "execution_count": 41,
     "metadata": {},
     "output_type": "execute_result"
    }
   ],
   "source": [
    "regression_model.evaluate(X_test, y_test) "
   ]
  },
  {
   "cell_type": "markdown",
   "metadata": {},
   "source": [
    "---\n",
    "### <span style=\"color:#0b486b\"> <div  style=\"text-align:center\">**THE END**</div> </span>"
   ]
  }
 ],
 "metadata": {
  "kernelspec": {
   "display_name": "tf2.5",
   "language": "python",
   "name": "tf2.5"
  },
  "language_info": {
   "codemirror_mode": {
    "name": "ipython",
    "version": 3
   },
   "file_extension": ".py",
   "mimetype": "text/x-python",
   "name": "python",
   "nbconvert_exporter": "python",
   "pygments_lexer": "ipython3",
   "version": "3.8.10"
  }
 },
 "nbformat": 4,
 "nbformat_minor": 4
}
